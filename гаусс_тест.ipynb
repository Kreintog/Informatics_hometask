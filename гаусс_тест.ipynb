{
  "nbformat": 4,
  "nbformat_minor": 0,
  "metadata": {
    "colab": {
      "provenance": [],
      "authorship_tag": "ABX9TyPlpg1HHnlBAN/954iNB8gx",
      "include_colab_link": true
    },
    "kernelspec": {
      "name": "python3",
      "display_name": "Python 3"
    },
    "language_info": {
      "name": "python"
    }
  },
  "cells": [
    {
      "cell_type": "markdown",
      "metadata": {
        "id": "view-in-github",
        "colab_type": "text"
      },
      "source": [
        "<a href=\"https://colab.research.google.com/github/Kreintog/Informatics_hometask/blob/main/%D0%B3%D0%B0%D1%83%D1%81%D1%81_%D1%82%D0%B5%D1%81%D1%82.ipynb\" target=\"_parent\"><img src=\"https://colab.research.google.com/assets/colab-badge.svg\" alt=\"Open In Colab\"/></a>"
      ]
    },
    {
      "cell_type": "markdown",
      "source": [
        "Моя функция для метода Гаусса"
      ],
      "metadata": {
        "id": "RLfPKGNwH6Bw"
      }
    },
    {
      "cell_type": "code",
      "execution_count": 45,
      "metadata": {
        "id": "J0CN1ZjaHlWQ"
      },
      "outputs": [],
      "source": [
        "def MatrixLambda(n,m,A,i,l):\n",
        "    for j in range(m):\n",
        "        A[i][j] *= l\n",
        "\n",
        "def MatrixTwoLines(n,m,A,i,j,l):\n",
        "    for j_1 in range(m):\n",
        "        A[i][j_1] += l*A[j][j_1]\n",
        "\n",
        "def MatrixSwitch(n,m,A,i,j):\n",
        "    A[i],A[j]=A[j],A[i]\n",
        "    \n",
        "def CheckZeroLine(n,m,A,i):\n",
        "    t = 1\n",
        "    for j in range(m-1):\n",
        "        if A[i][j]!=0:\n",
        "            t = 0\n",
        "    return t\n",
        "        \n",
        "def gauss(n,A):\n",
        "    #Прямой ход Гаусса\n",
        "    for i0 in range(n):\n",
        "\n",
        "        for i in range(i0,n):\n",
        "            if A[i][i0]!=0:\n",
        "                MatrixSwitch(n, n+1, A, i0, i)\n",
        "                break\n",
        "        for i in range(i0+1,n):\n",
        "            if A[i0][i0]!=0:\n",
        "                \n",
        "                MatrixTwoLines(n, n+1, A, i, i0, -A[i][i0]/A[i0][i0])\n",
        "            \n",
        "    \n",
        "    #Обратный ход Гаусса\n",
        "    for j in range(n-1,-1,-1):\n",
        "        j1=j\n",
        "        while A[j1][j]==0:\n",
        "            j1-=1\n",
        "        MatrixLambda(n, n+1, A, j1, 1/A[j1][j])\n",
        "        for i in range(j1):\n",
        "            MatrixTwoLines(n, n+1, A, i, j1, -A[i][j])\n",
        "            \n",
        "    for i in range(n):\n",
        "        if CheckZeroLine(n,n+1,A,i):\n",
        "            return None\n",
        "    sols = [A[i][n] for i in range(n)]\n",
        "        \n",
        "    return sols"
      ]
    },
    {
      "cell_type": "code",
      "source": [
        "import numpy as np"
      ],
      "metadata": {
        "id": "qo83hhy3Hw9v"
      },
      "execution_count": 46,
      "outputs": []
    },
    {
      "cell_type": "markdown",
      "source": [
        "Генерирую матрицу 300*300"
      ],
      "metadata": {
        "id": "Mtd0PPmwJilP"
      }
    },
    {
      "cell_type": "code",
      "source": [
        "A = np.random.rand(300,300)\n",
        "b = np.random.rand(300,1)"
      ],
      "metadata": {
        "id": "nMjQT9YeJhuC"
      },
      "execution_count": 47,
      "outputs": []
    },
    {
      "cell_type": "markdown",
      "source": [
        "Решаю её через numpy\n",
        "\n"
      ],
      "metadata": {
        "id": "26rZ4ZWELJbK"
      }
    },
    {
      "cell_type": "code",
      "source": [
        "x = np.linalg.solve(A,b)\n",
        "print(x[0])"
      ],
      "metadata": {
        "colab": {
          "base_uri": "https://localhost:8080/"
        },
        "id": "x_5ahqX5Kmgn",
        "outputId": "bf17b2fe-4e87-4790-b33c-19a065a4961e"
      },
      "execution_count": 48,
      "outputs": [
        {
          "output_type": "stream",
          "name": "stdout",
          "text": [
            "[0.11162022]\n"
          ]
        }
      ]
    },
    {
      "cell_type": "markdown",
      "source": [
        "Преобразую матрицу под своего Гаусса"
      ],
      "metadata": {
        "id": "VOzZRP-pLV98"
      }
    },
    {
      "cell_type": "code",
      "source": [
        "n = 300\n",
        "A1 = np.zeros((n,n+1))\n",
        "for i in range(n):\n",
        "  for j in range(n+1):\n",
        "    if j == n:\n",
        "      A1[i][j] = b[i]\n",
        "    else:\n",
        "      A1[i][j] = A[i][j]"
      ],
      "metadata": {
        "id": "MMO0kFSKL2cU"
      },
      "execution_count": 49,
      "outputs": []
    },
    {
      "cell_type": "markdown",
      "source": [
        "Решаю методом Гаусса\n"
      ],
      "metadata": {
        "id": "ZN690bt9Mh6q"
      }
    },
    {
      "cell_type": "code",
      "source": [
        "x = gauss(300,A1)\n",
        "print(x[0])"
      ],
      "metadata": {
        "colab": {
          "base_uri": "https://localhost:8080/"
        },
        "id": "fxfEXxRFMlSd",
        "outputId": "5fb43f70-fddb-477f-d775-bf3b1fdcd480"
      },
      "execution_count": 50,
      "outputs": [
        {
          "output_type": "stream",
          "name": "stdout",
          "text": [
            "0.11162021732375925\n"
          ]
        }
      ]
    }
  ]
}